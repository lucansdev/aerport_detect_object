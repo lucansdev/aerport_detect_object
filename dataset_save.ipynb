{
 "cells": [
  {
   "cell_type": "code",
   "execution_count": 1,
   "id": "09ce3c4b",
   "metadata": {},
   "outputs": [
    {
     "name": "stderr",
     "output_type": "stream",
     "text": [
      "2025-04-25 11:44:12.335947: I tensorflow/core/util/port.cc:153] oneDNN custom operations are on. You may see slightly different numerical results due to floating-point round-off errors from different computation orders. To turn them off, set the environment variable `TF_ENABLE_ONEDNN_OPTS=0`.\n",
      "2025-04-25 11:44:12.440158: E external/local_xla/xla/stream_executor/cuda/cuda_fft.cc:477] Unable to register cuFFT factory: Attempting to register factory for plugin cuFFT when one has already been registered\n",
      "WARNING: All log messages before absl::InitializeLog() is called are written to STDERR\n",
      "E0000 00:00:1745592252.483555   26408 cuda_dnn.cc:8310] Unable to register cuDNN factory: Attempting to register factory for plugin cuDNN when one has already been registered\n",
      "E0000 00:00:1745592252.496067   26408 cuda_blas.cc:1418] Unable to register cuBLAS factory: Attempting to register factory for plugin cuBLAS when one has already been registered\n",
      "2025-04-25 11:44:12.590885: I tensorflow/core/platform/cpu_feature_guard.cc:210] This TensorFlow binary is optimized to use available CPU instructions in performance-critical operations.\n",
      "To enable the following instructions: AVX2 AVX_VNNI FMA, in other operations, rebuild TensorFlow with the appropriate compiler flags.\n"
     ]
    }
   ],
   "source": [
    "import tensorflow as tf\n",
    "import os\n",
    "import cv2\n",
    "import numpy as np\n",
    "import tensorflow_datasets as tfds"
   ]
  },
  {
   "cell_type": "code",
   "execution_count": 2,
   "id": "8ef7d3de",
   "metadata": {},
   "outputs": [],
   "source": [
    "path_images = os.path.join(os.getcwd(), \"archive\", \"test\",\"images\")\n",
    "path_labels = os.path.join(os.getcwd(), \"archive\", \"test\",\"labels\")\n",
    "images = os.listdir(path_images)\n",
    "labels = os.listdir(path_labels)\n",
    "\n",
    "images_pixels = []\n",
    "for i in range(len(images)):\n",
    "    image = cv2.imread(os.path.join(path_images, images[i])) / 255.0\n",
    "\n",
    "    images_pixels.append(image)\n",
    "\n",
    "\n"
   ]
  },
  {
   "cell_type": "code",
   "execution_count": 3,
   "id": "6deb3276",
   "metadata": {},
   "outputs": [],
   "source": [
    "images_pixels = np.asarray(images_pixels,dtype=np.float32)"
   ]
  },
  {
   "cell_type": "code",
   "execution_count": 4,
   "id": "33547fd9",
   "metadata": {},
   "outputs": [],
   "source": [
    "final_labels = []\n",
    "for i in range(len(labels)):\n",
    "    with open(os.path.join(path_labels,labels[i]), \"rb\") as f:\n",
    "        label = f.read()\n",
    "        label = label.decode(\"utf-8\")\n",
    "        int_label = label.split(\" \")\n",
    "        int_label = [float(int_label[i]) for i in range(1,len(int_label))]\n",
    "        final_labels.append(int_label)\n"
   ]
  },
  {
   "cell_type": "code",
   "execution_count": 5,
   "id": "8eb09956",
   "metadata": {},
   "outputs": [
    {
     "name": "stderr",
     "output_type": "stream",
     "text": [
      "I0000 00:00:1745592259.339064   26408 gpu_device.cc:2022] Created device /job:localhost/replica:0/task:0/device:GPU:0 with 1774 MB memory:  -> device: 0, name: NVIDIA GeForce RTX 2050, pci bus id: 0000:01:00.0, compute capability: 8.6\n"
     ]
    },
    {
     "data": {
      "text/plain": [
       "<tf.Tensor: shape=(883, 4), dtype=float32, numpy=\n",
       "array([[0.796875  , 0.43389422, 0.07451923, 0.09495192],\n",
       "       [0.7512019 , 0.50240386, 0.05168269, 0.18149039],\n",
       "       [0.44591346, 0.6081731 , 0.06129808, 0.04567308],\n",
       "       ...,\n",
       "       [0.45552886, 0.47596154, 0.05769231, 0.125     ],\n",
       "       [0.38942307, 0.54447114, 0.06490385, 0.09735577],\n",
       "       [0.40384614, 0.76322114, 0.05168269, 0.08653846]], dtype=float32)>"
      ]
     },
     "execution_count": 5,
     "metadata": {},
     "output_type": "execute_result"
    }
   ],
   "source": [
    "final_labels = tf.convert_to_tensor(final_labels)\n",
    "final_labels"
   ]
  },
  {
   "cell_type": "code",
   "execution_count": 6,
   "id": "1c1c7b20",
   "metadata": {},
   "outputs": [
    {
     "name": "stdout",
     "output_type": "stream",
     "text": [
      "WARNING:tensorflow:From /tmp/ipykernel_26408/2527148892.py:2: save (from tensorflow.python.data.experimental.ops.io) is deprecated and will be removed in a future version.\n",
      "Instructions for updating:\n",
      "Use `tf.data.Dataset.save(...)` instead.\n"
     ]
    }
   ],
   "source": [
    "dataset = tf.data.Dataset.from_tensor_slices((images_pixels, final_labels))\n",
    "tf.data.experimental.save(dataset, \"dataset\")"
   ]
  }
 ],
 "metadata": {
  "kernelspec": {
   "display_name": "venv",
   "language": "python",
   "name": "python3"
  },
  "language_info": {
   "codemirror_mode": {
    "name": "ipython",
    "version": 3
   },
   "file_extension": ".py",
   "mimetype": "text/x-python",
   "name": "python",
   "nbconvert_exporter": "python",
   "pygments_lexer": "ipython3",
   "version": "3.10.12"
  }
 },
 "nbformat": 4,
 "nbformat_minor": 5
}
